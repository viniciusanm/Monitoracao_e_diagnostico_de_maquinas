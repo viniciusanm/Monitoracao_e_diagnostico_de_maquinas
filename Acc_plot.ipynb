{
 "cells": [
  {
   "cell_type": "code",
   "execution_count": 1,
   "id": "fb329854-7dfd-4de8-9d4e-fcc2440950df",
   "metadata": {},
   "outputs": [],
   "source": [
    "import pandas as pd\n",
    "import matplotlib.pyplot as plt\n",
    "import numpy as np\n",
    "import seaborn as sns"
   ]
  },
  {
   "cell_type": "code",
   "execution_count": 2,
   "id": "da022cee-34e4-4429-8e57-4e59529d211b",
   "metadata": {},
   "outputs": [],
   "source": [
    "plt.style.use('default')\n",
    "\n",
    "plt.rcParams.update({\n",
    "    'font.size': 16,\n",
    "    'axes.linewidth': 2,\n",
    "    'axes.titlesize': 20,\n",
    "    'axes.edgecolor': 'black',\n",
    "    'axes.labelsize': 20,\n",
    "    'axes.grid': False,\n",
    "    'lines.linewidth': 1.5,\n",
    "    'lines.markersize': 6,\n",
    "    'figure.figsize': (15, 6),\n",
    "    'xtick.labelsize': 14,\n",
    "    'ytick.labelsize': 14,\n",
    "    'font.family': 'Arial',\n",
    "    'legend.fontsize': 13,\n",
    "    'legend.framealpha': 1,\n",
    "    'legend.edgecolor': 'black',\n",
    "    'legend.shadow': False,\n",
    "    'legend.fancybox': True,\n",
    "    'legend.frameon': True,\n",
    "})"
   ]
  },
  {
   "cell_type": "code",
   "execution_count": 3,
   "id": "08fd055c-5ff8-446c-843f-5b680cd9a98a",
   "metadata": {},
   "outputs": [],
   "source": [
    "columns = ['Date', 'Daily_passing', 'Direction', 'Triaxial_y']"
   ]
  },
  {
   "cell_type": "code",
   "execution_count": 4,
   "id": "41339709-3d92-458c-bfec-b7b3efb66c29",
   "metadata": {},
   "outputs": [],
   "source": [
    "df_acc = pd.read_csv('D:/DR_train/Monitoracao_diagnostico_maquinas/Python/df_acc.csv', \n",
    "                     usecols = columns, dtype={'Daily_passing' : 'int16'})"
   ]
  },
  {
   "cell_type": "code",
   "execution_count": 5,
   "id": "b6b79f3c-4241-421a-91d7-ac554eb0020f",
   "metadata": {},
   "outputs": [],
   "source": [
    "df_acc = df_acc.dropna()"
   ]
  },
  {
   "cell_type": "code",
   "execution_count": 6,
   "id": "e17ecdf6-ed12-49e4-bb94-7df06e5ced6a",
   "metadata": {},
   "outputs": [],
   "source": [
    "df_acc = df_acc.reset_index(drop = True)"
   ]
  },
  {
   "cell_type": "code",
   "execution_count": 7,
   "id": "78d86bfd-497b-4826-a6c9-8e7ca1bc521f",
   "metadata": {},
   "outputs": [
    {
     "data": {
      "text/html": [
       "<div>\n",
       "<style scoped>\n",
       "    .dataframe tbody tr th:only-of-type {\n",
       "        vertical-align: middle;\n",
       "    }\n",
       "\n",
       "    .dataframe tbody tr th {\n",
       "        vertical-align: top;\n",
       "    }\n",
       "\n",
       "    .dataframe thead th {\n",
       "        text-align: right;\n",
       "    }\n",
       "</style>\n",
       "<table border=\"1\" class=\"dataframe\">\n",
       "  <thead>\n",
       "    <tr style=\"text-align: right;\">\n",
       "      <th></th>\n",
       "      <th>Date</th>\n",
       "      <th>Direction</th>\n",
       "      <th>Triaxial_y</th>\n",
       "    </tr>\n",
       "    <tr>\n",
       "      <th>Daily_passing</th>\n",
       "      <th></th>\n",
       "      <th></th>\n",
       "      <th></th>\n",
       "    </tr>\n",
       "  </thead>\n",
       "  <tbody>\n",
       "    <tr>\n",
       "      <th>1</th>\n",
       "      <td>106593286</td>\n",
       "      <td>106593286</td>\n",
       "      <td>106593286</td>\n",
       "    </tr>\n",
       "    <tr>\n",
       "      <th>2</th>\n",
       "      <td>72884386</td>\n",
       "      <td>72884386</td>\n",
       "      <td>72884386</td>\n",
       "    </tr>\n",
       "    <tr>\n",
       "      <th>3</th>\n",
       "      <td>23867037</td>\n",
       "      <td>23867037</td>\n",
       "      <td>23867037</td>\n",
       "    </tr>\n",
       "    <tr>\n",
       "      <th>4</th>\n",
       "      <td>10082423</td>\n",
       "      <td>10082423</td>\n",
       "      <td>10082423</td>\n",
       "    </tr>\n",
       "    <tr>\n",
       "      <th>5</th>\n",
       "      <td>5345685</td>\n",
       "      <td>5345685</td>\n",
       "      <td>5345685</td>\n",
       "    </tr>\n",
       "  </tbody>\n",
       "</table>\n",
       "</div>"
      ],
      "text/plain": [
       "                    Date  Direction  Triaxial_y\n",
       "Daily_passing                                  \n",
       "1              106593286  106593286   106593286\n",
       "2               72884386   72884386    72884386\n",
       "3               23867037   23867037    23867037\n",
       "4               10082423   10082423    10082423\n",
       "5                5345685    5345685     5345685"
      ]
     },
     "execution_count": 7,
     "metadata": {},
     "output_type": "execute_result"
    }
   ],
   "source": [
    "df_acc.groupby('Daily_passing').count()"
   ]
  },
  {
   "cell_type": "code",
   "execution_count": 8,
   "id": "bb5874aa-534e-4c4d-a7b5-7aaaf618ddc8",
   "metadata": {},
   "outputs": [
    {
     "data": {
      "text/html": [
       "<div>\n",
       "<style scoped>\n",
       "    .dataframe tbody tr th:only-of-type {\n",
       "        vertical-align: middle;\n",
       "    }\n",
       "\n",
       "    .dataframe tbody tr th {\n",
       "        vertical-align: top;\n",
       "    }\n",
       "\n",
       "    .dataframe thead th {\n",
       "        text-align: right;\n",
       "    }\n",
       "</style>\n",
       "<table border=\"1\" class=\"dataframe\">\n",
       "  <thead>\n",
       "    <tr style=\"text-align: right;\">\n",
       "      <th></th>\n",
       "      <th>Daily_passing</th>\n",
       "      <th>Direction</th>\n",
       "      <th>Triaxial_y</th>\n",
       "    </tr>\n",
       "  </thead>\n",
       "  <tbody>\n",
       "    <tr>\n",
       "      <th>count</th>\n",
       "      <td>2.187728e+08</td>\n",
       "      <td>2.187728e+08</td>\n",
       "      <td>2.187728e+08</td>\n",
       "    </tr>\n",
       "    <tr>\n",
       "      <th>mean</th>\n",
       "      <td>1.787339e+00</td>\n",
       "      <td>1.494173e+00</td>\n",
       "      <td>3.750884e-03</td>\n",
       "    </tr>\n",
       "    <tr>\n",
       "      <th>std</th>\n",
       "      <td>9.774263e-01</td>\n",
       "      <td>4.999660e-01</td>\n",
       "      <td>1.808794e-01</td>\n",
       "    </tr>\n",
       "    <tr>\n",
       "      <th>min</th>\n",
       "      <td>1.000000e+00</td>\n",
       "      <td>1.000000e+00</td>\n",
       "      <td>-7.962036e+00</td>\n",
       "    </tr>\n",
       "    <tr>\n",
       "      <th>25%</th>\n",
       "      <td>1.000000e+00</td>\n",
       "      <td>1.000000e+00</td>\n",
       "      <td>-3.004000e-03</td>\n",
       "    </tr>\n",
       "    <tr>\n",
       "      <th>50%</th>\n",
       "      <td>2.000000e+00</td>\n",
       "      <td>1.000000e+00</td>\n",
       "      <td>1.570000e-03</td>\n",
       "    </tr>\n",
       "    <tr>\n",
       "      <th>75%</th>\n",
       "      <td>2.000000e+00</td>\n",
       "      <td>2.000000e+00</td>\n",
       "      <td>7.255000e-03</td>\n",
       "    </tr>\n",
       "    <tr>\n",
       "      <th>max</th>\n",
       "      <td>5.000000e+00</td>\n",
       "      <td>2.000000e+00</td>\n",
       "      <td>8.853068e+00</td>\n",
       "    </tr>\n",
       "  </tbody>\n",
       "</table>\n",
       "</div>"
      ],
      "text/plain": [
       "       Daily_passing     Direction    Triaxial_y\n",
       "count   2.187728e+08  2.187728e+08  2.187728e+08\n",
       "mean    1.787339e+00  1.494173e+00  3.750884e-03\n",
       "std     9.774263e-01  4.999660e-01  1.808794e-01\n",
       "min     1.000000e+00  1.000000e+00 -7.962036e+00\n",
       "25%     1.000000e+00  1.000000e+00 -3.004000e-03\n",
       "50%     2.000000e+00  1.000000e+00  1.570000e-03\n",
       "75%     2.000000e+00  2.000000e+00  7.255000e-03\n",
       "max     5.000000e+00  2.000000e+00  8.853068e+00"
      ]
     },
     "execution_count": 8,
     "metadata": {},
     "output_type": "execute_result"
    }
   ],
   "source": [
    "df_acc.describe()"
   ]
  },
  {
   "cell_type": "markdown",
   "id": "9f207d92-c7b9-4975-bd5a-1b80100db85e",
   "metadata": {},
   "source": [
    "df_1 = df_acc[df_acc['Daily_passing'] == 1][0:100000]\n",
    "df_2 = df_acc[df_acc['Daily_passing'] == 2][0:100000]\n",
    "df_3= df_acc[df_acc['Daily_passing'] == 3][0:100000]\n",
    "df_4 = df_acc[df_acc['Daily_passing'] == 4][0:100000]\n",
    "df_5 = df_acc[df_acc['Daily_passing'] == 5][0:100000]"
   ]
  },
  {
   "cell_type": "markdown",
   "id": "7b415a15-96fd-4e52-873e-e397a3a4d470",
   "metadata": {},
   "source": [
    "df = pd.concat([df_1, df_2, df_3, df_4, df_5], axis = 0, ignore_index = True)"
   ]
  },
  {
   "cell_type": "code",
   "execution_count": 9,
   "id": "11627cc8-0530-438f-a7e0-8d299e3bae8d",
   "metadata": {},
   "outputs": [],
   "source": [
    "df_acc = df_acc[(df_acc['Triaxial_y'] > -0.4) & (df_acc['Triaxial_y'] < 0.4)]"
   ]
  },
  {
   "cell_type": "code",
   "execution_count": 10,
   "id": "eff5829c-7b9a-4822-8e88-68e1e8d565cd",
   "metadata": {},
   "outputs": [],
   "source": [
    "x = df_acc.index\n",
    "y = df_acc['Daily_passing']\n",
    "z = df_acc['Triaxial_y']"
   ]
  },
  {
   "cell_type": "code",
   "execution_count": 11,
   "id": "f642c4ed-827c-436c-b14e-e3e8dc222f8f",
   "metadata": {},
   "outputs": [
    {
     "data": {
      "image/png": "[encoded data removed]",
      "text/plain": [
       "<Figure size 1500x600 with 2 Axes>"
      ]
     },
     "metadata": {},
     "output_type": "display_data"
    },
    {
     "data": {
      "text/plain": [
       "<Figure size 1500x600 with 0 Axes>"
      ]
     },
     "metadata": {},
     "output_type": "display_data"
    }
   ],
   "source": [
    "plt.scatter(x, y, c=z,cmap=\"jet\", lw=0)\n",
    "plt.grid(True)\n",
    "\n",
    "cbar = plt.colorbar()\n",
    "cbar.set_label('Vehicle Acceleration (g)')\n",
    "\n",
    "plt.xlabel('Index')\n",
    "plt.ylabel('Daily Passing')\n",
    "\n",
    "plt.show()\n",
    "\n",
    "plt.savefig('acc_daily_pass_index.png')"
   ]
  },
  {
   "cell_type": "markdown",
   "id": "c2f37e34-99bc-4ae7-8576-7a5018c715e0",
   "metadata": {},
   "source": [
    "fig, ax = plt.subplots()\n",
    "\n",
    "Xm, Ym = np.meshgrid(x,y)\n",
    "\n",
    "surf = plt.contourf(x, y, z, 15, cmap=plt.get_cmap(\"seismic\"))\n",
    "\n",
    "plt.colorbar()\n",
    "plt.xlabel('Index')\n",
    "plt.ylabel('Daily Passing')\n",
    "plt.tight_layout()"
   ]
  },
  {
   "cell_type": "code",
   "execution_count": null,
   "id": "a3707365-11c2-4094-9bef-8bcd32c94105",
   "metadata": {},
   "outputs": [],
   "source": [
    "sns.boxplot(data=df_acc, x=y, y=z)"
   ]
  },
  {
   "cell_type": "code",
   "execution_count": null,
   "id": "349f4a57-6c47-4cb4-b877-108a3017a6c9",
   "metadata": {},
   "outputs": [],
   "source": [
    "df_acc_1 = df_acc[df_acc['Daily_passing'] == 1]\n",
    "df_acc_2 = df_acc[df_acc['Daily_passing'] == 2]\n",
    "df_acc_3 = df_acc[df_acc['Daily_passing'] == 3]\n",
    "df_acc_4 = df_acc[df_acc['Daily_passing'] == 4]\n",
    "df_acc_5 = df_acc[df_acc['Daily_passing'] == 5]"
   ]
  },
  {
   "cell_type": "code",
   "execution_count": null,
   "id": "2090efe3-fc48-4e1f-b044-7a9a3c74a9f5",
   "metadata": {},
   "outputs": [],
   "source": [
    "track_pos_1 = np.linspace(0, 1287, len(df_acc_1))\n",
    "track_pos_2 = np.linspace(0, 1287, len(df_acc_2))\n",
    "track_pos_3 = np.linspace(0, 1287, len(df_acc_3))\n",
    "track_pos_4 = np.linspace(0, 1287, len(df_acc_4))\n",
    "track_pos_5 = np.linspace(0, 1287, len(df_acc_5))"
   ]
  },
  {
   "cell_type": "code",
   "execution_count": null,
   "id": "20f630c8-524d-4fb3-a2ae-5908e879ce03",
   "metadata": {},
   "outputs": [],
   "source": [
    "df_acc_1.insert(4, 'Track Position', track_pos_1)\n",
    "df_acc_2.insert(4, 'Track Position', track_pos_2)\n",
    "df_acc_3.insert(4, 'Track Position', track_pos_3)\n",
    "df_acc_4.insert(4, 'Track Position', track_pos_4)\n",
    "df_acc_5.insert(4, 'Track Position', track_pos_5)"
   ]
  },
  {
   "cell_type": "code",
   "execution_count": null,
   "id": "2639d94e-3cf8-4efa-b711-892a06825b58",
   "metadata": {},
   "outputs": [],
   "source": [
    "df_acc_1.to_csv('D:/DR_train/Monitoracao_diagnostico_maquinas/Python/df_acc_1.csv')\n",
    "df_acc_2.to_csv('D:/DR_train/Monitoracao_diagnostico_maquinas/Python/df_acc_2.csv')\n",
    "df_acc_3.to_csv('D:/DR_train/Monitoracao_diagnostico_maquinas/Python/df_acc_3.csv')\n",
    "df_acc_4.to_csv('D:/DR_train/Monitoracao_diagnostico_maquinas/Python/df_acc_4.csv')\n",
    "df_acc_5.to_csv('D:/DR_train/Monitoracao_diagnostico_maquinas/Python/df_acc_5.csv')"
   ]
  },
  {
   "cell_type": "code",
   "execution_count": null,
   "id": "65a44605-626b-486e-b894-a13c00e43785",
   "metadata": {},
   "outputs": [],
   "source": [
    "x_1 = df_acc_1['Track Position']\n",
    "y_1 = df_acc_1['Daily_passing']\n",
    "z_1 = df_acc_1['Triaxial_y']\n",
    "\n",
    "x_2 = df_acc_2['Track Position']\n",
    "y_2 = df_acc_2['Daily_passing']\n",
    "z_2 = df_acc_2['Triaxial_y']\n",
    "\n",
    "x_3 = df_acc_3['Track Position']\n",
    "y_3 = df_acc_3['Daily_passing']\n",
    "z_3 = df_acc_3['Triaxial_y']\n",
    "\n",
    "x_4 = df_acc_4['Track Position']\n",
    "y_4 = df_acc_4['Daily_passing']\n",
    "z_4 = df_acc_4['Triaxial_y']\n",
    "\n",
    "x_5 = df_acc_5['Track Position']\n",
    "y_5 = df_acc_5['Daily_passing']\n",
    "z_5 = df_acc_5['Triaxial_y']"
   ]
  },
  {
   "cell_type": "code",
   "execution_count": null,
   "id": "5865d091-b4e1-480c-9f41-f7b140a684ac",
   "metadata": {},
   "outputs": [],
   "source": [
    "points_1 = plt.scatter(x_1, y_1, c=z_1,cmap=\"jet\", lw=0)\n",
    "points_2 = plt.scatter(x_2, y_2, c=z_2,cmap=\"jet\", lw=0)\n",
    "points_3 = plt.scatter(x_3, y_3, c=z_3,cmap=\"jet\", lw=0)\n",
    "points_4 = plt.scatter(x_4, y_4, c=z_4,cmap=\"jet\", lw=0)\n",
    "points_5 = plt.scatter(x_5, y_5, c=z_5,cmap=\"jet\", lw=0)\n",
    "\n",
    "plt.colorbar(points_1, points_2, points_3, points_4, points_5)\n",
    "plt.grid(True)"
   ]
  },
  {
   "cell_type": "markdown",
   "id": "c758b8a1-f867-4175-8ba8-26e45075394a",
   "metadata": {},
   "source": [
    "b = (df_acc['Date'] == '2013-11-21') & (df_acc['Daily_passing'] == 1) & (df_acc['Direction'] == 2)"
   ]
  },
  {
   "cell_type": "markdown",
   "id": "262353c0-626a-4da6-bed8-9b90ec27d765",
   "metadata": {},
   "source": [
    "df = df_acc[b]"
   ]
  },
  {
   "cell_type": "markdown",
   "id": "9312aa86-b99e-45f1-84e6-27bad91d6d1e",
   "metadata": {},
   "source": [
    "df = df.reset_index(drop = True)"
   ]
  },
  {
   "cell_type": "markdown",
   "id": "804f0835-b8f7-4ef7-9171-eb88df104514",
   "metadata": {},
   "source": [
    "df = df[(df['Triaxial_y'] > -0.4) & (df['Triaxial_y'] < 0.4)]"
   ]
  },
  {
   "cell_type": "markdown",
   "id": "d815c22a-a721-481a-bbd0-6000e5f81f39",
   "metadata": {},
   "source": [
    "x_2 = df.index\n",
    "y_2 = df['Daily_passing']\n",
    "z_2 = df['Triaxial_y']"
   ]
  },
  {
   "cell_type": "markdown",
   "id": "77a0f55d-1acf-47d7-af49-ad87b124a64a",
   "metadata": {},
   "source": [
    "points = plt.scatter(x_2, y_2, c=z_2,cmap=\"jet\", lw=0)\n",
    "plt.colorbar(points)\n",
    "plt.grid(True)"
   ]
  },
  {
   "cell_type": "code",
   "execution_count": null,
   "id": "016941d2-c28a-4403-8755-0b0b24fb471f",
   "metadata": {},
   "outputs": [],
   "source": []
  }
 ],
 "metadata": {
  "kernelspec": {
   "display_name": "Python 3 (ipykernel)",
   "language": "python",
   "name": "python3"
  },
  "language_info": {
   "codemirror_mode": {
    "name": "ipython",
    "version": 3
   },
   "file_extension": ".py",
   "mimetype": "text/x-python",
   "name": "python",
   "nbconvert_exporter": "python",
   "pygments_lexer": "ipython3",
   "version": "3.9.10"
  }
 },
 "nbformat": 4,
 "nbformat_minor": 5
}
